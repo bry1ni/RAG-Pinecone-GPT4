{
 "cells": [
  {
   "cell_type": "code",
   "execution_count": 1,
   "metadata": {},
   "outputs": [
    {
     "name": "stderr",
     "output_type": "stream",
     "text": [
      "c:\\Users\\Yoga\\Desktop\\PresonalProjects\\RAG-Pinecone-GPT4\\RAGVenv\\Lib\\site-packages\\pinecone\\data\\index.py:1: TqdmWarning: IProgress not found. Please update jupyter and ipywidgets. See https://ipywidgets.readthedocs.io/en/stable/user_install.html\n",
      "  from tqdm.autonotebook import tqdm\n"
     ]
    }
   ],
   "source": [
    "import os\n",
    "from langchain_openai import ChatOpenAI\n",
    "from extract import extractData\n",
    "from query import query\n",
    "from store import prepareData, storeData\n",
    "from pinecone import Pinecone, ServerlessSpec\n",
    "from answer import getAnswer"
   ]
  },
  {
   "cell_type": "code",
   "execution_count": 2,
   "metadata": {},
   "outputs": [],
   "source": [
    "pc = Pinecone(api_key=os.environ[\"PINECONE_API_KEY\"])"
   ]
  },
  {
   "cell_type": "code",
   "execution_count": 3,
   "metadata": {},
   "outputs": [],
   "source": [
    "pdf_path = \"Data/mdrNet.pdf\"\n",
    "index_name = \"pdf-test-index\" # Change this to your index name on your Pinecone account\n",
    "index = pc.Index(index_name)"
   ]
  },
  {
   "cell_type": "code",
   "execution_count": 5,
   "metadata": {},
   "outputs": [
    {
     "name": "stdout",
     "output_type": "stream",
     "text": [
      "Started parsing the file under job_id 761be5e5-c975-4aaf-b7f4-c901ff058c09\n"
     ]
    },
    {
     "data": {
      "text/plain": [
       "{'dimension': 1536,\n",
       " 'index_fullness': 0.0,\n",
       " 'namespaces': {'': {'vector_count': 215}},\n",
       " 'total_vector_count': 215}"
      ]
     },
     "execution_count": 5,
     "metadata": {},
     "output_type": "execute_result"
    }
   ],
   "source": [
    "# First, upsertion step\n",
    "splits = extractData(pdf_path)\n",
    "data_to_upsert = prepareData(splits)\n",
    "status = storeData(data_to_upsert, index)\n",
    "status"
   ]
  },
  {
   "cell_type": "code",
   "execution_count": 6,
   "metadata": {},
   "outputs": [
    {
     "data": {
      "text/plain": [
       "'The MDR-Net, or Multi-scale Dense Residual Network, is a proposed architecture inspired by the classical residual network. It is designed to take full advantage of features at different scales by extracting the liver region, and it has good generalization. The MDR-Net is a chain process from downsampling to upsampling, which fuses feature information of different scales to obtain liver regions. The features are downsampled to different scales and then undergo feature fusion. \\n\\nThe MDR-Net model is implemented in Python 3.7 and Tensorflow 1.8, running on a system with NVIDIA GeForce RTX 2060 12GB. The Adam optimizer is used for optimization with an initial learning rate set to 1e-4. \\n\\nThe overall framework of the MDR-Net network is shown in Figure 2, and the process of subpixel upsampling and inverse subpixel downsampling is shown in Figure 3.'"
      ]
     },
     "execution_count": 6,
     "metadata": {},
     "output_type": "execute_result"
    }
   ],
   "source": [
    "# Second, Query step\n",
    "query_text = [\"What is the MDRNet architecture?\"]\n",
    "context = query(index, query_text)\n",
    "\n",
    "# Third, generate the response\n",
    "model = ChatOpenAI(openai_api_key = os.environ.get(\"OPENAI_API_KEY\"), temperature=0, model=\"gpt-4\")\n",
    "answer = getAnswer(context, query_text, model)\n",
    "answer"
   ]
  },
  {
   "cell_type": "code",
   "execution_count": null,
   "metadata": {},
   "outputs": [],
   "source": []
  }
 ],
 "metadata": {
  "kernelspec": {
   "display_name": "RAGVenv",
   "language": "python",
   "name": "python3"
  },
  "language_info": {
   "codemirror_mode": {
    "name": "ipython",
    "version": 3
   },
   "file_extension": ".py",
   "mimetype": "text/x-python",
   "name": "python",
   "nbconvert_exporter": "python",
   "pygments_lexer": "ipython3",
   "version": "3.11.9"
  }
 },
 "nbformat": 4,
 "nbformat_minor": 2
}
